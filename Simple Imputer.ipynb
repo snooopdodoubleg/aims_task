{
 "cells": [
  {
   "cell_type": "code",
   "execution_count": 1,
   "id": "b7318f0d-1a1d-44f4-906c-49c86577ab9a",
   "metadata": {},
   "outputs": [
    {
     "name": "stdout",
     "output_type": "stream",
     "text": [
      "Original Data:\n",
      "     A    B    C\n",
      "0  1.0  NaN  1.0\n",
      "1  2.0  2.0  2.0\n",
      "2  NaN  3.0  3.0\n",
      "3  4.0  4.0  4.0\n",
      "4  5.0  5.0  NaN\n",
      "\n",
      "Imputed Data (Mean):\n",
      "     A    B    C\n",
      "0  1.0  3.5  1.0\n",
      "1  2.0  2.0  2.0\n",
      "2  3.0  3.0  3.0\n",
      "3  4.0  4.0  4.0\n",
      "4  5.0  5.0  2.5\n",
      "\n",
      "Imputed Data (Median):\n",
      "     A    B    C\n",
      "0  1.0  3.5  1.0\n",
      "1  2.0  2.0  2.0\n",
      "2  3.0  3.0  3.0\n",
      "3  4.0  4.0  4.0\n",
      "4  5.0  5.0  2.5\n",
      "\n",
      "Imputed Data (Mode):\n",
      "     A    B    C\n",
      "0  1.0  2.0  1.0\n",
      "1  2.0  2.0  2.0\n",
      "2  1.0  3.0  3.0\n",
      "3  4.0  4.0  4.0\n",
      "4  5.0  5.0  1.0\n"
     ]
    }
   ],
   "source": [
    "import pandas as pd\n",
    "import numpy as np\n",
    "\n",
    "#Setting default strategy to mean\n",
    "def simple_imputer(data, strategy='mean'):\n",
    "\n",
    "    imputed_data = data.copy()\n",
    "\n",
    "    for column in imputed_data.columns:\n",
    "        if imputed_data[column].isnull().any():\n",
    "            if strategy == 'mean':\n",
    "                imputed_data[column].fillna(imputed_data[column].mean(), inplace=True)\n",
    "            elif strategy == 'median':\n",
    "                imputed_data[column].fillna(imputed_data[column].median(), inplace=True)\n",
    "            elif strategy == 'mode':\n",
    "                imputed_data[column].fillna(imputed_data[column].mode().iloc[0], inplace=True)\n",
    "\n",
    "    return imputed_data\n",
    "\n",
    "data1 = pd.DataFrame({\n",
    "    'A': [1, 2, np.nan, 4, 5],\n",
    "    'B': [np.nan, 2, 3, 4, 5],\n",
    "    'C': [1, 2, 3, 4, np.nan]  })\n",
    "\n",
    "imputed_data_mean = simple_imputer(data1, strategy='mean')\n",
    "\n",
    "imputed_data_median = simple_imputer(data1, strategy='median')\n",
    "\n",
    "imputed_data_mode = simple_imputer(data1, strategy='mode')\n",
    "\n",
    "print(\"Original Data:\")\n",
    "print(data1)\n",
    "print(\"\\nImputed Data (Mean):\")\n",
    "print(imputed_data_mean)\n",
    "print(\"\\nImputed Data (Median):\")\n",
    "print(imputed_data_median)\n",
    "print(\"\\nImputed Data (Mode):\")\n",
    "print(imputed_data_mode)\n"
   ]
  },
  {
   "cell_type": "code",
   "execution_count": null,
   "id": "33db9ef6-85bd-4045-8bfd-49d6825100c3",
   "metadata": {},
   "outputs": [],
   "source": []
  }
 ],
 "metadata": {
  "kernelspec": {
   "display_name": "Python 3 (ipykernel)",
   "language": "python",
   "name": "python3"
  },
  "language_info": {
   "codemirror_mode": {
    "name": "ipython",
    "version": 3
   },
   "file_extension": ".py",
   "mimetype": "text/x-python",
   "name": "python",
   "nbconvert_exporter": "python",
   "pygments_lexer": "ipython3",
   "version": "3.12.1"
  }
 },
 "nbformat": 4,
 "nbformat_minor": 5
}

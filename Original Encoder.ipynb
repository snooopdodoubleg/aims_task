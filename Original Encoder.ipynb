{
 "cells": [
  {
   "cell_type": "code",
   "execution_count": 1,
   "id": "b2d3da8f-e961-45c1-b59d-18ceafd547da",
   "metadata": {},
   "outputs": [
    {
     "name": "stdout",
     "output_type": "stream",
     "text": [
      "   Numeric1  Category1\n",
      "0        10          0\n",
      "1        20          2\n",
      "2         8          1\n",
      "3         7          2\n",
      "4         6          0\n",
      "5        25          3\n",
      "6        18          1\n",
      "7        30          3\n"
     ]
    }
   ],
   "source": [
    "import pandas as pd\n",
    "\n",
    "data = {'Numeric1': [10, 20, 8, 7, 6, 25, 18, 30],\n",
    "        'Category1': ['Never','Mostly', 'Rarely','Mostly', 'Never', 'Always', 'Rarely', 'Always']}\n",
    "df = pd.DataFrame(data)\n",
    "\n",
    "df['Category1'] = df['Category1'].astype('category').cat.set_categories(['Never', 'Rarely', 'Mostly', 'Always'], ordered=True).cat.codes\n",
    "\n",
    "print(df)"
   ]
  },
  {
   "cell_type": "code",
   "execution_count": null,
   "id": "6ce24b73-7786-4b43-838a-b5fd586267da",
   "metadata": {},
   "outputs": [],
   "source": []
  }
 ],
 "metadata": {
  "kernelspec": {
   "display_name": "Python 3 (ipykernel)",
   "language": "python",
   "name": "python3"
  },
  "language_info": {
   "codemirror_mode": {
    "name": "ipython",
    "version": 3
   },
   "file_extension": ".py",
   "mimetype": "text/x-python",
   "name": "python",
   "nbconvert_exporter": "python",
   "pygments_lexer": "ipython3",
   "version": "3.12.1"
  }
 },
 "nbformat": 4,
 "nbformat_minor": 5
}
